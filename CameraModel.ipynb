{
 "cells": [
  {
   "cell_type": "markdown",
   "metadata": {},
   "source": [
    "## Pinhole Camera Model \n",
    "\n",
    "\n",
    "With a pinhole camera model, a 3D point X is projected to an image point x(both expressed in homogenous coordinates) as: \n",
    "\n",
    "**$\\lambda$x = PX** \n",
    "\n",
    "Here the 3x4 matric P is called the camera matrix(or the projection matrix). \n",
    "\n",
    "The 3D point X has four elements in homogenous cooridinates X = [X,Y,Z,W]\n",
    "\n",
    "The scalar $\\lambda$ is the inverse depth of the 3D point and is needed if we want all coordinates to be homogenous with the last value normalized to one.  \n",
    "\n",
    "### Camera Matrix \n",
    "\n",
    "The camera matrix can be decomposed as: \n",
    "\n",
    "**P = K [R | t]**  \n",
    "\n",
    "where: \n",
    "\n",
    "**R** is a rotation matrix describing the orientation of the camera, \n",
    "**t** is a 3D translation vector descriibing the position of the camera center,\n",
    "**K** is the intrinsic calibration matrix describing the projection properties of the camera\n",
    "\n",
    "\n",
    "The calibration matrix depends only on the camera and is in general writetn as: \n",
    "\n",
    "$ K = \\begin{bmatrix}\n",
    "  f_x & s & c_x \\\\\n",
    "  0 & f_y & c_y \\\\\n",
    "  0 & 0 & 1\n",
    " \\end{bmatrix} $\n",
    " \n",
    "where, \n",
    "f = focal length\n",
    "s = skew\n",
    "c_x, c_y are the optical coordinates of the optical center, also called the principal point\n",
    "\n",
    "Assuming the the sensor is not skewed and that the pixel elements are square. We can write: \n",
    "\n",
    "\n",
    "$ K = \\begin{bmatrix}\n",
    "  f & 0 & c_x \\\\\n",
    "  0 & f & c_y \\\\\n",
    "  0 & 0 & 1\n",
    " \\end{bmatrix} $\n",
    "\n",
    "\n",
    "\n"
   ]
  },
  {
   "cell_type": "code",
   "execution_count": 1,
   "metadata": {},
   "outputs": [],
   "source": [
    "#import linear algebra library \n",
    "from scipy import linalg \n",
    "\n",
    "\n",
    "class Camera(object):\n",
    "    def __init__(self, p):\n",
    "        self.P = P\n",
    "        self.K = None\n",
    "        self.R = None\n",
    "        self.t = None\n",
    "        self.c = None\n",
    "        \n",
    "        def project(self,X):\n",
    "            \"\"\" Project points in X (4*n array) and normalize coordinates. \"\"\"\n",
    "            \n",
    "            #project points\n",
    "            x = dot(self.P, X)\n",
    "            \n",
    "            #normalize\n",
    "            for i in range(3):\n",
    "                x[i] /= x[2]\n",
    "            \n",
    "            return x"
   ]
  },
  {
   "cell_type": "code",
   "execution_count": null,
   "metadata": {},
   "outputs": [],
   "source": [
    "\n"
   ]
  },
  {
   "cell_type": "code",
   "execution_count": null,
   "metadata": {},
   "outputs": [],
   "source": []
  },
  {
   "cell_type": "code",
   "execution_count": null,
   "metadata": {},
   "outputs": [],
   "source": []
  },
  {
   "cell_type": "code",
   "execution_count": null,
   "metadata": {},
   "outputs": [],
   "source": []
  }
 ],
 "metadata": {
  "kernelspec": {
   "display_name": "Python 3",
   "language": "python",
   "name": "python3"
  },
  "language_info": {
   "codemirror_mode": {
    "name": "ipython",
    "version": 3
   },
   "file_extension": ".py",
   "mimetype": "text/x-python",
   "name": "python",
   "nbconvert_exporter": "python",
   "pygments_lexer": "ipython3",
   "version": "3.6.4"
  }
 },
 "nbformat": 4,
 "nbformat_minor": 2
}
